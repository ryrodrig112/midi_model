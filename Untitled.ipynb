{
 "cells": [
  {
   "cell_type": "code",
   "execution_count": 3,
   "id": "cbbfe047-65c3-4e5f-8f72-f4602a96b6d3",
   "metadata": {},
   "outputs": [],
   "source": []
  },
  {
   "cell_type": "code",
   "execution_count": null,
   "id": "25a3bc49-bba5-4626-95c1-7278d4b60f28",
   "metadata": {},
   "outputs": [],
   "source": [
    "data"
   ]
  },
  {
   "cell_type": "code",
   "execution_count": 4,
   "id": "0ee648ea-f181-4bcf-86c3-e6452ef641e9",
   "metadata": {},
   "outputs": [
    {
     "name": "stdout",
     "output_type": "stream",
     "text": [
      "45\n"
     ]
    }
   ],
   "source": [
    "def first_n(n):\n",
    "    num, nums = 0, []\n",
    "    while num < n:\n",
    "        nums.append(num)\n",
    "        num+=1\n",
    "    return nums\n",
    "    \n",
    "sum_of_first_n = sum(first_n(10))\n",
    "print(sum_of_first_n)\n",
    "# problem, builds full list of [1,2,3,...n] to memory"
   ]
  },
  {
   "cell_type": "code",
   "execution_count": 1,
   "id": "9a528a8f-dc7c-4e01-93f6-5f27c7ce6970",
   "metadata": {},
   "outputs": [
    {
     "name": "stdout",
     "output_type": "stream",
     "text": [
      "Collecting pretty_midi\n",
      "  Downloading pretty_midi-0.2.10.tar.gz (5.6 MB)\n",
      "     |████████████████████████████████| 5.6 MB 3.3 MB/s            \n",
      "\u001b[?25h  Preparing metadata (setup.py) ... \u001b[?25ldone\n",
      "\u001b[?25hRequirement already satisfied: numpy>=1.7.0 in ./lib/python3.9/site-packages (from pretty_midi) (2.0.0)\n",
      "Collecting mido>=1.1.16\n",
      "  Downloading mido-1.3.2-py3-none-any.whl (54 kB)\n",
      "     |████████████████████████████████| 54 kB 9.4 MB/s             \n",
      "\u001b[?25hRequirement already satisfied: six in ./lib/python3.9/site-packages (from pretty_midi) (1.16.0)\n",
      "Collecting packaging~=23.1\n",
      "  Using cached packaging-23.2-py3-none-any.whl (53 kB)\n",
      "Building wheels for collected packages: pretty-midi\n",
      "  Building wheel for pretty-midi (setup.py) ... \u001b[?25ldone\n",
      "\u001b[?25h  Created wheel for pretty-midi: filename=pretty_midi-0.2.10-py3-none-any.whl size=5592306 sha256=f039b3212f52f45b6ca475d11edf3509880f4eef16325f7d12bfd2569aad022e\n",
      "  Stored in directory: /Users/ryanrodriguez/Library/Caches/pip/wheels/75/ec/20/b8e937a5bcf1de547ea5ce465db7de7f6761e15e6f0a01e25f\n",
      "Successfully built pretty-midi\n",
      "Installing collected packages: packaging, mido, pretty-midi\n",
      "  Attempting uninstall: packaging\n",
      "    Found existing installation: packaging 24.1\n",
      "    Uninstalling packaging-24.1:\n",
      "      Successfully uninstalled packaging-24.1\n",
      "Successfully installed mido-1.3.2 packaging-23.2 pretty-midi-0.2.10\n",
      "\u001b[33mWARNING: You are using pip version 21.3.1; however, version 24.1.2 is available.\n",
      "You should consider upgrading via the '/Users/ryanrodriguez/PycharmProjects/personal/ood_music/bin/python -m pip install --upgrade pip' command.\u001b[0m\n"
     ]
    }
   ],
   "source": [
    "!pip install pretty_midi"
   ]
  },
  {
   "cell_type": "code",
   "execution_count": 14,
   "id": "cef2b23f-ff2d-474c-b76c-745975f91d37",
   "metadata": {},
   "outputs": [
    {
     "name": "stdout",
     "output_type": "stream",
     "text": [
      "0\n",
      "1\n",
      "2\n",
      "3\n",
      "4\n",
      "5\n",
      "6\n",
      "7\n",
      "8\n",
      "9\n"
     ]
    }
   ],
   "source": [
    "def firstn(n):\n",
    "    num = 0\n",
    "    while num < n:\n",
    "        yield num\n",
    "        num +=1\n",
    "        \n",
    "for n in firstn(10):\n",
    "    print(n)"
   ]
  },
  {
   "cell_type": "code",
   "execution_count": 24,
   "id": "a10585ad-d5ae-4aff-a56b-4f9674e6566a",
   "metadata": {},
   "outputs": [],
   "source": [
    "arr1 = [1, 2, 3, 4]\n",
    "arr2 = [5, 6, 7, 8, 9]\n",
    "\n",
    "def xy(arr, seq_length):\n",
    "    context = seq_length * [0]\n",
    "    for y in arr + [0]:\n",
    "        yield (context, y)\n",
    "        context = context[1:] + [y]"
   ]
  },
  {
   "cell_type": "code",
   "execution_count": 26,
   "id": "e5a9614c-2815-4ab9-9b07-be7ccbe9d28a",
   "metadata": {},
   "outputs": [
    {
     "name": "stdout",
     "output_type": "stream",
     "text": [
      "[0, 0, 0] 1\n",
      "[0, 0, 1] 2\n",
      "[0, 1, 2] 3\n",
      "[1, 2, 3] 4\n",
      "[2, 3, 4] 0\n",
      "[0, 0, 0] 5\n",
      "[0, 0, 5] 6\n",
      "[0, 5, 6] 7\n",
      "[5, 6, 7] 8\n",
      "[6, 7, 8] 9\n",
      "[7, 8, 9] 0\n"
     ]
    }
   ],
   "source": [
    "arrs = [arr1, arr2]\n",
    "for arr in arrs:\n",
    "    for data in xy(arr, 3):\n",
    "        x, y = data[0], data[1]\n",
    "        print(x, y)"
   ]
  },
  {
   "cell_type": "code",
   "execution_count": 30,
   "id": "914b0dd4-b54f-4af2-bd34-6b77cc78a617",
   "metadata": {},
   "outputs": [
    {
     "ename": "TypeError",
     "evalue": "object of type 'generator' has no len()",
     "output_type": "error",
     "traceback": [
      "\u001b[0;31m---------------------------------------------------------------------------\u001b[0m",
      "\u001b[0;31mTypeError\u001b[0m                                 Traceback (most recent call last)",
      "Cell \u001b[0;32mIn[30], line 1\u001b[0m\n\u001b[0;32m----> 1\u001b[0m \u001b[38;5;28;43mlen\u001b[39;49m\u001b[43m(\u001b[49m\u001b[38;5;28;43miter\u001b[39;49m\u001b[43m(\u001b[49m\u001b[43mxy\u001b[49m\u001b[43m(\u001b[49m\u001b[43marr\u001b[49m\u001b[43m,\u001b[49m\u001b[43m \u001b[49m\u001b[38;5;241;43m3\u001b[39;49m\u001b[43m)\u001b[49m\u001b[43m)\u001b[49m\u001b[43m)\u001b[49m\n",
      "\u001b[0;31mTypeError\u001b[0m: object of type 'generator' has no len()"
     ]
    }
   ],
   "source": []
  },
  {
   "cell_type": "code",
   "execution_count": null,
   "id": "d04ae11b-6816-42a5-81f5-1c4f80e39dec",
   "metadata": {},
   "outputs": [],
   "source": []
  }
 ],
 "metadata": {
  "kernelspec": {
   "display_name": "Python 3 (ipykernel)",
   "language": "python",
   "name": "python3"
  },
  "language_info": {
   "codemirror_mode": {
    "name": "ipython",
    "version": 3
   },
   "file_extension": ".py",
   "mimetype": "text/x-python",
   "name": "python",
   "nbconvert_exporter": "python",
   "pygments_lexer": "ipython3",
   "version": "3.9.6"
  }
 },
 "nbformat": 4,
 "nbformat_minor": 5
}
